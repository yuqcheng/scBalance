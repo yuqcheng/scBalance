{
 "cells": [
  {
   "cell_type": "code",
   "execution_count": 2,
   "id": "ca6080ae",
   "metadata": {
    "scrolled": true
   },
   "outputs": [],
   "source": [
    "import scanpy as sc\n",
    "import pandas as pd\n",
    "import numpy as np\n",
    "from sklearn.model_selection import train_test_split\n",
    "from sklearn.metrics import f1_score\n",
    "from sklearn.metrics import confusion_matrix, cohen_kappa_score\n",
    "import os"
   ]
  },
  {
   "cell_type": "code",
   "execution_count": 3,
   "id": "7da06721",
   "metadata": {},
   "outputs": [
    {
     "name": "stderr",
     "output_type": "stream",
     "text": [
      "/nethome/ycheng430/miniconda3/envs/ATAC/lib/python3.9/site-packages/tqdm/auto.py:22: TqdmWarning: IProgress not found. Please update jupyter and ipywidgets. See https://ipywidgets.readthedocs.io/en/stable/user_install.html\n",
      "  from .autonotebook import tqdm as notebook_tqdm\n"
     ]
    }
   ],
   "source": [
    "import scBalance as sb"
   ]
  },
  {
   "cell_type": "markdown",
   "id": "20ae0bba",
   "metadata": {},
   "source": [
    "## 1. Model saving and reusing"
   ]
  },
  {
   "cell_type": "markdown",
   "id": "62001fbc",
   "metadata": {},
   "source": [
    "Load data and preprocess"
   ]
  },
  {
   "cell_type": "code",
   "execution_count": 4,
   "id": "d5b6c9b2",
   "metadata": {},
   "outputs": [],
   "source": [
    "adata = sc.read_csv(\"../scBalance_dataset/Baron Human/Filtered_Baron_HumanPancreas_data.csv\")"
   ]
  },
  {
   "cell_type": "code",
   "execution_count": 5,
   "id": "0e0d0110",
   "metadata": {
    "scrolled": true
   },
   "outputs": [],
   "source": [
    "label_data = pd.read_csv('../scBalance_dataset/Baron Human/Labels.csv')"
   ]
  },
  {
   "cell_type": "code",
   "execution_count": 6,
   "id": "f7d92956",
   "metadata": {},
   "outputs": [],
   "source": [
    "sc.pp.normalize_total(adata, target_sum=1e4)\n",
    "sc.pp.log1p(adata)\n",
    "\n",
    "data = adata.to_df()"
   ]
  },
  {
   "cell_type": "code",
   "execution_count": 6,
   "id": "0630c296",
   "metadata": {},
   "outputs": [],
   "source": [
    "X_train, X_test, y_train, y_test = train_test_split(data, label_data)"
   ]
  },
  {
   "cell_type": "markdown",
   "id": "0384fa6f",
   "metadata": {},
   "source": [
    "Running scBalance"
   ]
  },
  {
   "cell_type": "code",
   "execution_count": 7,
   "id": "c3f3a6ca",
   "metadata": {
    "scrolled": false
   },
   "outputs": [
    {
     "name": "stdout",
     "output_type": "stream",
     "text": [
      "--------Start annotating----------\n",
      "No GPUs are available on your server.\n",
      "Computational unit be used is: cpu\n",
      "100%[====================->]24.18s\n",
      "--------Annotation Finished----------\n",
      "Model is saved at:/net/csefiles/xzhanglab/ycheng430/scATAC_classification_project/scbalance.pkl\n",
      "\n",
      "Dict file is saved at:/net/csefiles/xzhanglab/ycheng430/scATAC_classification_project/dict_file.pkl\n"
     ]
    }
   ],
   "source": [
    "pred_label = sb.scBalance(X_test, X_train, y_train, processing_unit = 'gpu', save_model=True, weighted_sampling=True)"
   ]
  },
  {
   "cell_type": "markdown",
   "id": "a7e70edc",
   "metadata": {},
   "source": [
    "You can see that the model and cell type dictionary is saved in your root path."
   ]
  },
  {
   "cell_type": "markdown",
   "id": "bb4ed20f",
   "metadata": {},
   "source": [
    "Metrics calculation"
   ]
  },
  {
   "cell_type": "code",
   "execution_count": 10,
   "id": "20ab1efe",
   "metadata": {
    "scrolled": false
   },
   "outputs": [],
   "source": [
    "from sklearn.metrics import confusion_matrix,cohen_kappa_score\n",
    "cm = confusion_matrix(y_test, pred_label, labels = list(set(pred_label)))"
   ]
  },
  {
   "cell_type": "code",
   "execution_count": 11,
   "id": "15b35422",
   "metadata": {
    "scrolled": true
   },
   "outputs": [
    {
     "data": {
      "text/plain": [
       "0.9883866366659296"
      ]
     },
     "execution_count": 11,
     "metadata": {},
     "output_type": "execute_result"
    }
   ],
   "source": [
    "cohen_kappa_score(y_test,pred_label)"
   ]
  },
  {
   "cell_type": "markdown",
   "id": "a69e98ac",
   "metadata": {},
   "source": [
    "Load model"
   ]
  },
  {
   "cell_type": "code",
   "execution_count": 12,
   "id": "a8c995ce",
   "metadata": {},
   "outputs": [],
   "source": [
    "whole_data = adata.to_df()"
   ]
  },
  {
   "cell_type": "markdown",
   "id": "b8202afb",
   "metadata": {},
   "source": [
    "Please use the path as the iput of the \"load_model\" parameter and \"load_dict\" parameter.\n",
    "\n",
    "Here, we use pre-trained model to predict the whole baron human dataset as an example."
   ]
  },
  {
   "cell_type": "code",
   "execution_count": 13,
   "id": "8acb1b7f",
   "metadata": {},
   "outputs": [
    {
     "name": "stdout",
     "output_type": "stream",
     "text": [
      "Loading model\n",
      "Prediction finished\n"
     ]
    }
   ],
   "source": [
    "pred_label_2 = sb.scBalance(test=whole_data, load_model = \"/net/csefiles/xzhanglab/ycheng430/scATAC_classification_project/scbalance.pkl\", load_dict = \"/net/csefiles/xzhanglab/ycheng430/scATAC_classification_project/dict_file.pkl\")"
   ]
  },
  {
   "cell_type": "markdown",
   "id": "a7d11feb",
   "metadata": {},
   "source": [
    "You may see the pretrained model successfully predict the cell type in the whole baron human dataset."
   ]
  },
  {
   "cell_type": "code",
   "execution_count": 14,
   "id": "ba3649b1",
   "metadata": {},
   "outputs": [
    {
     "data": {
      "text/plain": [
       "0.9976660053681876"
      ]
     },
     "execution_count": 14,
     "metadata": {},
     "output_type": "execute_result"
    }
   ],
   "source": [
    "f1_score(label_data, pred_label_2,average='micro')"
   ]
  },
  {
   "cell_type": "code",
   "execution_count": 15,
   "id": "ec60533e",
   "metadata": {},
   "outputs": [
    {
     "data": {
      "text/html": [
       "<div>\n",
       "<style scoped>\n",
       "    .dataframe tbody tr th:only-of-type {\n",
       "        vertical-align: middle;\n",
       "    }\n",
       "\n",
       "    .dataframe tbody tr th {\n",
       "        vertical-align: top;\n",
       "    }\n",
       "\n",
       "    .dataframe thead th {\n",
       "        text-align: right;\n",
       "    }\n",
       "</style>\n",
       "<table border=\"1\" class=\"dataframe\">\n",
       "  <thead>\n",
       "    <tr style=\"text-align: right;\">\n",
       "      <th></th>\n",
       "      <th>x</th>\n",
       "    </tr>\n",
       "  </thead>\n",
       "  <tbody>\n",
       "    <tr>\n",
       "      <th>0</th>\n",
       "      <td>acinar</td>\n",
       "    </tr>\n",
       "    <tr>\n",
       "      <th>1</th>\n",
       "      <td>acinar</td>\n",
       "    </tr>\n",
       "    <tr>\n",
       "      <th>2</th>\n",
       "      <td>acinar</td>\n",
       "    </tr>\n",
       "    <tr>\n",
       "      <th>3</th>\n",
       "      <td>acinar</td>\n",
       "    </tr>\n",
       "    <tr>\n",
       "      <th>4</th>\n",
       "      <td>acinar</td>\n",
       "    </tr>\n",
       "    <tr>\n",
       "      <th>...</th>\n",
       "      <td>...</td>\n",
       "    </tr>\n",
       "    <tr>\n",
       "      <th>8564</th>\n",
       "      <td>activated_stellate</td>\n",
       "    </tr>\n",
       "    <tr>\n",
       "      <th>8565</th>\n",
       "      <td>alpha</td>\n",
       "    </tr>\n",
       "    <tr>\n",
       "      <th>8566</th>\n",
       "      <td>beta</td>\n",
       "    </tr>\n",
       "    <tr>\n",
       "      <th>8567</th>\n",
       "      <td>beta</td>\n",
       "    </tr>\n",
       "    <tr>\n",
       "      <th>8568</th>\n",
       "      <td>ductal</td>\n",
       "    </tr>\n",
       "  </tbody>\n",
       "</table>\n",
       "<p>8569 rows × 1 columns</p>\n",
       "</div>"
      ],
      "text/plain": [
       "                       x\n",
       "0                 acinar\n",
       "1                 acinar\n",
       "2                 acinar\n",
       "3                 acinar\n",
       "4                 acinar\n",
       "...                  ...\n",
       "8564  activated_stellate\n",
       "8565               alpha\n",
       "8566                beta\n",
       "8567                beta\n",
       "8568              ductal\n",
       "\n",
       "[8569 rows x 1 columns]"
      ]
     },
     "execution_count": 15,
     "metadata": {},
     "output_type": "execute_result"
    }
   ],
   "source": [
    "label_data"
   ]
  },
  {
   "cell_type": "markdown",
   "id": "ea972501",
   "metadata": {},
   "source": [
    "In this way, for the large dataset, you do not need to re-train your model but only need to reuse the trained model for the further prediction"
   ]
  },
  {
   "cell_type": "code",
   "execution_count": null,
   "id": "bcb5e308",
   "metadata": {},
   "outputs": [],
   "source": []
  },
  {
   "cell_type": "markdown",
   "id": "846336b5",
   "metadata": {},
   "source": [
    "## 2. Sampling technique choosing\n",
    "\n",
    "In this section, you can see how to choose sampling method for the imbalanced dataset. We added a \"weighted_sampling\" parameter for users who would like to use external sampling method instead of our weighted sampling. "
   ]
  },
  {
   "cell_type": "markdown",
   "id": "54ece057",
   "metadata": {},
   "source": [
    "Load data"
   ]
  },
  {
   "cell_type": "code",
   "execution_count": 7,
   "id": "1c137368",
   "metadata": {},
   "outputs": [],
   "source": [
    "X_train, X_test, y_train, y_test = train_test_split(data, label_data, random_state=5, stratify=label_data)"
   ]
  },
  {
   "cell_type": "markdown",
   "id": "ac0213bc",
   "metadata": {},
   "source": [
    "When using \"weighted_samling\" as True, the internal weighted sampling technique is used:"
   ]
  },
  {
   "cell_type": "code",
   "execution_count": 8,
   "id": "0bec1124",
   "metadata": {},
   "outputs": [
    {
     "name": "stdout",
     "output_type": "stream",
     "text": [
      "--------Start annotating----------\n",
      "No GPUs are available on your server.\n",
      "Computational unit be used is: cpu\n",
      "100%[====================->]25.65s\n",
      "--------Annotation Finished----------\n"
     ]
    }
   ],
   "source": [
    "pred_label = sb.scBalance(X_test, X_train, y_train, processing_unit = 'gpu', save_model=False, weighted_sampling=True)"
   ]
  },
  {
   "cell_type": "code",
   "execution_count": 9,
   "id": "3dc8a8b8",
   "metadata": {},
   "outputs": [
    {
     "data": {
      "text/plain": [
       "0.9716602004456567"
      ]
     },
     "execution_count": 9,
     "metadata": {},
     "output_type": "execute_result"
    }
   ],
   "source": [
    "f1_score(y_test, pred_label,average='macro')"
   ]
  },
  {
   "cell_type": "markdown",
   "id": "3d0b62f3",
   "metadata": {},
   "source": [
    "When set this parameter as False, for now no sampling method is applied. You may see the differences in the f1 score"
   ]
  },
  {
   "cell_type": "code",
   "execution_count": 11,
   "id": "4e11f43c",
   "metadata": {},
   "outputs": [],
   "source": [
    "X_train, X_test, y_train, y_test = train_test_split(data, label_data, random_state=5, stratify=label_data)"
   ]
  },
  {
   "cell_type": "code",
   "execution_count": 12,
   "id": "9813f090",
   "metadata": {},
   "outputs": [
    {
     "name": "stdout",
     "output_type": "stream",
     "text": [
      "--------Start annotating----------\n",
      "No GPUs are available on your server.\n",
      "Computational unit be used is: cpu\n",
      "100%[====================->]16.68s\n",
      "--------Annotation Finished----------\n"
     ]
    }
   ],
   "source": [
    "pred_label = sb.scBalance(X_test, X_train, y_train, processing_unit = 'gpu', save_model=False, weighted_sampling=False)"
   ]
  },
  {
   "cell_type": "code",
   "execution_count": 13,
   "id": "c49511b3",
   "metadata": {},
   "outputs": [
    {
     "data": {
      "text/plain": [
       "0.8656051742738423"
      ]
     },
     "execution_count": 13,
     "metadata": {},
     "output_type": "execute_result"
    }
   ],
   "source": [
    "f1_score(y_test, pred_label,average='macro')"
   ]
  },
  {
   "cell_type": "code",
   "execution_count": null,
   "id": "1b53f865",
   "metadata": {},
   "outputs": [],
   "source": []
  }
 ],
 "metadata": {
  "kernelspec": {
   "display_name": "Python 3.9.12 ('ATAC')",
   "language": "python",
   "name": "python3"
  },
  "language_info": {
   "codemirror_mode": {
    "name": "ipython",
    "version": 3
   },
   "file_extension": ".py",
   "mimetype": "text/x-python",
   "name": "python",
   "nbconvert_exporter": "python",
   "pygments_lexer": "ipython3",
   "version": "3.9.12"
  },
  "vscode": {
   "interpreter": {
    "hash": "b95b82d1d0f5b97d075070277cf2bb53fc467a0aa076fe42ffb31699dc6db73b"
   }
  }
 },
 "nbformat": 4,
 "nbformat_minor": 5
}
