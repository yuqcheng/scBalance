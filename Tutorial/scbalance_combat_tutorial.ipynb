{
 "cells": [
  {
   "cell_type": "code",
   "execution_count": 1,
   "metadata": {},
   "outputs": [
    {
     "name": "stderr",
     "output_type": "stream",
     "text": [
      "/nethome/ycheng430/miniconda3/envs/ATAC/lib/python3.9/site-packages/tqdm/auto.py:22: TqdmWarning: IProgress not found. Please update jupyter and ipywidgets. See https://ipywidgets.readthedocs.io/en/stable/user_install.html\n",
      "  from .autonotebook import tqdm as notebook_tqdm\n"
     ]
    }
   ],
   "source": [
    "import scanpy as sc\n",
    "import pandas as pd\n",
    "import numpy as np\n",
    "\n",
    "from sklearn.metrics import f1_score, cohen_kappa_score\n",
    "\n",
    "import scBalance as sb"
   ]
  },
  {
   "attachments": {},
   "cell_type": "markdown",
   "metadata": {},
   "source": [
    "### 1. Load dataset\n"
   ]
  },
  {
   "cell_type": "code",
   "execution_count": 2,
   "metadata": {},
   "outputs": [],
   "source": [
    "v2_adata = sc.read_csv(\"Inter-dataset/PbmcBench/10Xv2/10Xv2_pbmc1.csv\")\n",
    "v2_label_data = pd.read_csv('Inter-dataset/PbmcBench/10Xv2/10Xv2_pbmc1Labels.csv')"
   ]
  },
  {
   "cell_type": "code",
   "execution_count": 3,
   "metadata": {},
   "outputs": [],
   "source": [
    "v3_adata = sc.read_csv(\"Inter-dataset/PbmcBench/10Xv3/10Xv3_pbmc1.csv\")\n",
    "v3_label_data = pd.read_csv('Inter-dataset/PbmcBench/10Xv3/10Xv3_pbmc1Labels.csv')"
   ]
  },
  {
   "attachments": {},
   "cell_type": "markdown",
   "metadata": {},
   "source": [
    "### 2. Data normalization\n",
    "\n",
    "The same as scanpy tutorial. For most of the users this may have already been done before annotation."
   ]
  },
  {
   "cell_type": "code",
   "execution_count": 4,
   "metadata": {},
   "outputs": [],
   "source": [
    "sc.pp.normalize_total(v2_adata, target_sum=1e4)\n",
    "sc.pp.log1p(v2_adata)\n",
    "sc.pp.normalize_total(v3_adata, target_sum=1e4)\n",
    "sc.pp.log1p(v3_adata)"
   ]
  },
  {
   "attachments": {},
   "cell_type": "markdown",
   "metadata": {},
   "source": [
    "### 3. Find intersect gene set and integrate datasets"
   ]
  },
  {
   "cell_type": "code",
   "execution_count": 5,
   "metadata": {},
   "outputs": [],
   "source": [
    "gene_names = v2_adata.var_names.intersection(v3_adata.var_names)\n",
    "v2_adata = v2_adata[:, gene_names]\n",
    "v3_adata = v3_adata[:, gene_names]"
   ]
  },
  {
   "cell_type": "code",
   "execution_count": 6,
   "metadata": {},
   "outputs": [
    {
     "name": "stderr",
     "output_type": "stream",
     "text": [
      "/nethome/ycheng430/miniconda3/envs/ATAC/lib/python3.9/site-packages/anndata/_core/anndata.py:1785: FutureWarning: X.dtype being converted to np.float32 from float64. In the next version of anndata (0.9) conversion will not be automatic. Pass dtype explicitly to avoid this warning. Pass `AnnData(X, dtype=X.dtype, ...)` to get the future behavour.\n",
      "  [AnnData(sparse.csr_matrix(a.shape), obs=a.obs) for a in all_adatas],\n"
     ]
    }
   ],
   "source": [
    "adata_concat = v2_adata.concatenate(v3_adata, batch_categories=['v2', 'v3'])"
   ]
  },
  {
   "attachments": {},
   "cell_type": "markdown",
   "metadata": {},
   "source": [
    "### 4. Using Combat to correct batch effect\n",
    "\n",
    "Combat is embedded in the Scanpy package. This tool can return corrected scRNA-seq expression matrix."
   ]
  },
  {
   "cell_type": "code",
   "execution_count": 7,
   "metadata": {},
   "outputs": [],
   "source": [
    "sc.pp.combat(adata_concat, key='batch', covariates=None, inplace=True)"
   ]
  },
  {
   "cell_type": "code",
   "execution_count": 8,
   "metadata": {},
   "outputs": [],
   "source": [
    "#### Extract batch-corrected datasets\n",
    "adata_query = adata_concat[adata_concat.obs.batch.isin(['v2'])]\n",
    "adata_ref = adata_concat[adata_concat.obs.batch.isin(['v3'])]"
   ]
  },
  {
   "attachments": {},
   "cell_type": "markdown",
   "metadata": {},
   "source": [
    "### 5. Train scBalance and perform cell type annotation"
   ]
  },
  {
   "cell_type": "code",
   "execution_count": 9,
   "metadata": {},
   "outputs": [
    {
     "name": "stdout",
     "output_type": "stream",
     "text": [
      "--------Start annotating----------\n",
      "Computational unit be used is: cpu\n",
      "100%[====================->]109.10s\n",
      "--------Annotation Finished----------\n"
     ]
    }
   ],
   "source": [
    "#training ref v3 query v2\n",
    "v2_pred_label = sb.scBalance(adata_query.to_df().astype('float32'), adata_ref.to_df().astype('float32'), v3_label_data, processing_unit = 'cpu')"
   ]
  },
  {
   "attachments": {},
   "cell_type": "markdown",
   "metadata": {},
   "source": [
    "The cell type label can be used into visualization, please find the PBMC 3k tutorial for more details."
   ]
  },
  {
   "cell_type": "code",
   "execution_count": 10,
   "metadata": {},
   "outputs": [
    {
     "data": {
      "text/plain": [
       "0.9701451670500495"
      ]
     },
     "execution_count": 10,
     "metadata": {},
     "output_type": "execute_result"
    }
   ],
   "source": [
    "#result evaluation\n",
    "from sklearn.metrics import confusion_matrix,cohen_kappa_score\n",
    "cohen_kappa_score(v2_label_data, v2_pred_label)"
   ]
  },
  {
   "cell_type": "code",
   "execution_count": 11,
   "metadata": {},
   "outputs": [
    {
     "data": {
      "text/plain": [
       "0.8597287300186334"
      ]
     },
     "execution_count": 11,
     "metadata": {},
     "output_type": "execute_result"
    }
   ],
   "source": [
    "f1_score(v2_label_data, v2_pred_label, average='macro')"
   ]
  },
  {
   "attachments": {},
   "cell_type": "markdown",
   "metadata": {},
   "source": [
    "### 6. Compared with no batch effect removal method\n",
    "\n",
    "In most cases, scBalance is robust enough for batch effect. Users could determine whether they need Combat before annotation. Usually, we recommend using scBalance directly, especially when dealing with the atlas-scale reference dataset."
   ]
  },
  {
   "cell_type": "code",
   "execution_count": 12,
   "metadata": {},
   "outputs": [],
   "source": [
    "v2_label_data = pd.read_csv('Inter-dataset/PbmcBench/10Xv2/10Xv2_pbmc1Labels.csv')\n",
    "v3_label_data = pd.read_csv('Inter-dataset/PbmcBench/10Xv3/10Xv3_pbmc1Labels.csv')"
   ]
  },
  {
   "cell_type": "code",
   "execution_count": 13,
   "metadata": {},
   "outputs": [
    {
     "name": "stdout",
     "output_type": "stream",
     "text": [
      "--------Start annotating----------\n",
      "Computational unit be used is: cpu\n",
      "100%[====================->]122.70s\n",
      "--------Annotation Finished----------\n"
     ]
    }
   ],
   "source": [
    "#training ref v3 query v2\n",
    "v2_pred_label = sb.scBalance(v2_adata.to_df(), v3_adata.to_df(), v3_label_data, processing_unit = 'cpu')"
   ]
  },
  {
   "attachments": {},
   "cell_type": "markdown",
   "metadata": {},
   "source": [
    "The result will basically remain the same with or without the batch correction method."
   ]
  },
  {
   "cell_type": "code",
   "execution_count": 14,
   "metadata": {},
   "outputs": [
    {
     "data": {
      "text/plain": [
       "0.9709676782417723"
      ]
     },
     "execution_count": 14,
     "metadata": {},
     "output_type": "execute_result"
    }
   ],
   "source": [
    "#result evaluation\n",
    "from sklearn.metrics import confusion_matrix,cohen_kappa_score\n",
    "cohen_kappa_score(v2_label_data, v2_pred_label)"
   ]
  },
  {
   "cell_type": "code",
   "execution_count": 15,
   "metadata": {},
   "outputs": [
    {
     "data": {
      "text/plain": [
       "0.8614133291153494"
      ]
     },
     "execution_count": 15,
     "metadata": {},
     "output_type": "execute_result"
    }
   ],
   "source": [
    "f1_score(v2_label_data, v2_pred_label, average='macro')"
   ]
  }
 ],
 "metadata": {
  "kernelspec": {
   "display_name": "ATAC",
   "language": "python",
   "name": "python3"
  },
  "language_info": {
   "codemirror_mode": {
    "name": "ipython",
    "version": 3
   },
   "file_extension": ".py",
   "mimetype": "text/x-python",
   "name": "python",
   "nbconvert_exporter": "python",
   "pygments_lexer": "ipython3",
   "version": "3.9.12"
  },
  "orig_nbformat": 4,
  "vscode": {
   "interpreter": {
    "hash": "b95b82d1d0f5b97d075070277cf2bb53fc467a0aa076fe42ffb31699dc6db73b"
   }
  }
 },
 "nbformat": 4,
 "nbformat_minor": 2
}
