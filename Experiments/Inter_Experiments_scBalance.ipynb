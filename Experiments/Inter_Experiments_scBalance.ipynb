{
 "cells": [
  {
   "cell_type": "code",
   "execution_count": 1,
   "id": "c45ea783",
   "metadata": {},
   "outputs": [],
   "source": [
    "import scanpy as sc\n",
    "import pandas as pd\n",
    "import numpy as np\n",
    "import torch\n",
    "import torch.nn as nn\n",
    "from torch.optim import Adam\n",
    "import torch.utils.data as Data\n",
    "from sklearn.model_selection import train_test_split\n",
    "from sklearn.metrics import f1_score\n",
    "from collections import Counter"
   ]
  },
  {
   "cell_type": "code",
   "execution_count": 562,
   "id": "1d286911",
   "metadata": {},
   "outputs": [],
   "source": [
    "train_adata = sc.read_csv(\"C:\\\\Users\\\\Lenovo\\\\Documents\\\\Python Scripts\\\\Inter-dataset\\\\PbmcBench\\\\CEL-Seq\\\\CL_pbmc1.csv\")\n",
    "test_adata = sc.read_csv(\"C:\\\\Users\\\\Lenovo\\\\Documents\\\\Python Scripts\\\\Inter-dataset\\\\PbmcBench\\\\inDrop\\\\iD_pbmc1.csv\")"
   ]
  },
  {
   "cell_type": "code",
   "execution_count": 584,
   "id": "49bc23e7",
   "metadata": {
    "scrolled": true
   },
   "outputs": [],
   "source": [
    "train_label = pd.read_csv(\"C:\\\\Users\\\\Lenovo\\\\Documents\\\\Python Scripts\\\\Inter-dataset\\\\PbmcBench\\\\CEL-Seq\\\\CL_pbmc1Labels.csv\")\n",
    "test_label = pd.read_csv(\"C:\\\\Users\\\\Lenovo\\\\Documents\\\\Python Scripts\\\\Inter-dataset\\\\PbmcBench\\\\inDrop\\\\iD_pbmc1Labels.csv\")"
   ]
  },
  {
   "cell_type": "code",
   "execution_count": 564,
   "id": "f9856b22",
   "metadata": {},
   "outputs": [],
   "source": [
    "sc.pp.normalize_total(train_adata, target_sum=1e4)\n",
    "sc.pp.log1p(train_adata)\n",
    "\n",
    "sc.pp.normalize_total(test_adata, target_sum=1e4)\n",
    "sc.pp.log1p(test_adata)"
   ]
  },
  {
   "cell_type": "code",
   "execution_count": 565,
   "id": "0ae31d56",
   "metadata": {
    "scrolled": true
   },
   "outputs": [
    {
     "name": "stderr",
     "output_type": "stream",
     "text": [
      "C:\\Users\\Lenovo\\AppData\\Local\\Temp\\ipykernel_48184\\783173373.py:1: FutureWarning: Index.__and__ operating as a set operation is deprecated, in the future this will be a logical operation matching Series.__and__.  Use index.intersection(other) instead.\n",
      "  gene = train_adata.var_names & test_adata.var_names\n"
     ]
    }
   ],
   "source": [
    "gene = train_adata.var_names & test_adata.var_names"
   ]
  },
  {
   "cell_type": "code",
   "execution_count": 566,
   "id": "01feacb6",
   "metadata": {},
   "outputs": [],
   "source": [
    "data = train_adata.to_df()[gene]\n",
    "test_data = test_adata.to_df()[gene]"
   ]
  },
  {
   "cell_type": "code",
   "execution_count": 567,
   "id": "c6b923df",
   "metadata": {
    "scrolled": false
   },
   "outputs": [
    {
     "data": {
      "text/plain": [
       "(21832, 15676)"
      ]
     },
     "execution_count": 567,
     "metadata": {},
     "output_type": "execute_result"
    }
   ],
   "source": [
    "test_data.shape"
   ]
  },
  {
   "cell_type": "code",
   "execution_count": 585,
   "id": "db1fd1f0",
   "metadata": {},
   "outputs": [],
   "source": [
    "train_label.columns = ['Label']\n",
    "train_label.Label.value_counts()\n",
    "status_dict = train_label['Label'].unique().tolist()\n",
    "train_label['transfromed']=train_label['Label'].apply(lambda x : status_dict.index(x))\n",
    "y_train = train_label['transfromed'].values"
   ]
  },
  {
   "cell_type": "code",
   "execution_count": 586,
   "id": "9f34ebea",
   "metadata": {},
   "outputs": [],
   "source": [
    "X_train = data.values\n",
    "X_test = test_data.values"
   ]
  },
  {
   "cell_type": "code",
   "execution_count": 587,
   "id": "997d6613",
   "metadata": {},
   "outputs": [
    {
     "data": {
      "text/plain": [
       "Cytotoxic T cell       6799\n",
       "CD4+ T cell            4472\n",
       "CD14+ monocyte         3808\n",
       "B cell                 2362\n",
       "Megakaryocyte           904\n",
       "Natural killer cell     850\n",
       "CD16+ monocyte          559\n",
       "Name: Label, dtype: int64"
      ]
     },
     "execution_count": 587,
     "metadata": {},
     "output_type": "execute_result"
    }
   ],
   "source": [
    "train_label.Label.value_counts()"
   ]
  },
  {
   "cell_type": "code",
   "execution_count": 588,
   "id": "4ce14fe5",
   "metadata": {
    "scrolled": true
   },
   "outputs": [
    {
     "data": {
      "text/plain": [
       "['CD4+ T cell',\n",
       " 'Cytotoxic T cell',\n",
       " 'Natural killer cell',\n",
       " 'CD16+ monocyte',\n",
       " 'CD14+ monocyte',\n",
       " 'Megakaryocyte',\n",
       " 'B cell']"
      ]
     },
     "execution_count": 588,
     "metadata": {},
     "output_type": "execute_result"
    }
   ],
   "source": [
    "status_dict"
   ]
  },
  {
   "cell_type": "code",
   "execution_count": 589,
   "id": "7c61ad39",
   "metadata": {},
   "outputs": [],
   "source": [
    "dtype = torch.float\n",
    "X_train=torch.from_numpy(X_train)\n",
    "X_test=torch.from_numpy(X_test)"
   ]
  },
  {
   "cell_type": "code",
   "execution_count": 590,
   "id": "6f8267e2",
   "metadata": {},
   "outputs": [],
   "source": [
    "dtype = torch.float\n",
    "\n",
    "y_train = torch.from_numpy(y_train)"
   ]
  },
  {
   "cell_type": "code",
   "execution_count": 591,
   "id": "61b076f4",
   "metadata": {},
   "outputs": [],
   "source": [
    "class_sample_count = torch.tensor(\n",
    "    [(y_train == t).sum() for t in torch.unique(y_train, sorted=True)])\n",
    "weight = 1. / class_sample_count.float()\n",
    "samples_weight = torch.tensor([weight[t] for t in y_train])\n",
    "sampler = Data.WeightedRandomSampler(samples_weight, len(samples_weight))"
   ]
  },
  {
   "cell_type": "code",
   "execution_count": 592,
   "id": "70686264",
   "metadata": {},
   "outputs": [],
   "source": [
    "train_data= Data.TensorDataset(X_train,y_train)\n",
    "train_loader= Data.DataLoader(dataset=train_data,batch_size=128,shuffle=True,num_workers=1)"
   ]
  },
  {
   "cell_type": "code",
   "execution_count": 593,
   "id": "c8368355",
   "metadata": {},
   "outputs": [],
   "source": [
    "import torch\n",
    "import torch.nn as nn\n",
    "\n",
    "class classifier(nn.Module):\n",
    "    '''\n",
    "\n",
    "    '''\n",
    "    def __init__(self, input_size, class_num):\n",
    "        '''\n",
    "\n",
    "        :param input_size: Input layer unit number (feature number)\n",
    "        :param class_num: Number of different cell types.\n",
    "        '''\n",
    "        if input_size == None or class_num == None:\n",
    "            raise ValueError(\"Must declare number of features and number of classes\")\n",
    "        super(classifier, self).__init__()\n",
    "        self.layer1 = nn.Linear(input_size, 128)\n",
    "        self.bn1 = nn.BatchNorm1d(128)\n",
    "        self.relu1 = nn.ELU()\n",
    "        self.dropout1 = nn.Dropout(0.5)\n",
    "        self.layer2 = nn.Linear(128, 64)\n",
    "        self.bn2 = nn.BatchNorm1d(64)\n",
    "        self.relu2 = nn.ELU()\n",
    "        self.dropout2 = nn.Dropout(0.5)\n",
    "        self.layer3 = nn.Linear(64, 32)\n",
    "        self.bn3 = nn.BatchNorm1d(32)\n",
    "        self.relu3 = nn.ELU()\n",
    "        self.dropout3 = nn.Dropout(0.5)\n",
    "        self.layer4 = nn.Linear(32, class_num)\n",
    "\n",
    "\n",
    "    def forward(self, x):\n",
    "        '''\n",
    "\n",
    "        :param x: forward calculation\n",
    "        :return:\n",
    "        '''\n",
    "        out = self.layer1(x)\n",
    "        out = self.bn1(out)\n",
    "        out = self.relu1(out)\n",
    "        out = self.dropout1(out)\n",
    "        out = self.layer2(out)\n",
    "        out = self.bn2(out)\n",
    "        out = self.relu2(out)\n",
    "        out = self.dropout2(out)\n",
    "        out = self.layer3(out)\n",
    "        out = self.bn3(out)\n",
    "        out = self.relu3(out)\n",
    "        out = self.dropout3(out)\n",
    "        out = self.layer4(out)\n",
    "\n",
    "        return out"
   ]
  },
  {
   "cell_type": "code",
   "execution_count": 594,
   "id": "e0d1174d",
   "metadata": {},
   "outputs": [],
   "source": [
    "input_size = X_train.shape[1]\n",
    "num_class = len(status_dict)\n",
    "num_epochs = 20\n",
    "\n",
    "model = classifier(input_size, num_class)"
   ]
  },
  {
   "cell_type": "code",
   "execution_count": 595,
   "id": "e855deab",
   "metadata": {},
   "outputs": [
    {
     "name": "stdout",
     "output_type": "stream",
     "text": [
      "classifier(\n",
      "  (layer1): Linear(in_features=15676, out_features=128, bias=True)\n",
      "  (bn1): BatchNorm1d(128, eps=1e-05, momentum=0.1, affine=True, track_running_stats=True)\n",
      "  (relu1): ELU(alpha=1.0)\n",
      "  (dropout1): Dropout(p=0.5, inplace=False)\n",
      "  (layer2): Linear(in_features=128, out_features=64, bias=True)\n",
      "  (bn2): BatchNorm1d(64, eps=1e-05, momentum=0.1, affine=True, track_running_stats=True)\n",
      "  (relu2): ELU(alpha=1.0)\n",
      "  (dropout2): Dropout(p=0.5, inplace=False)\n",
      "  (layer3): Linear(in_features=64, out_features=32, bias=True)\n",
      "  (bn3): BatchNorm1d(32, eps=1e-05, momentum=0.1, affine=True, track_running_stats=True)\n",
      "  (relu3): ELU(alpha=1.0)\n",
      "  (dropout3): Dropout(p=0.5, inplace=False)\n",
      "  (layer4): Linear(in_features=32, out_features=7, bias=True)\n",
      ")\n"
     ]
    }
   ],
   "source": [
    "print(model)"
   ]
  },
  {
   "cell_type": "code",
   "execution_count": 596,
   "id": "0aa5e762",
   "metadata": {},
   "outputs": [],
   "source": [
    "criterion = nn.CrossEntropyLoss()\n",
    "optimizer = torch.optim.Adam(model.parameters(), lr=0.005)\n",
    "total_step = len(train_loader)"
   ]
  },
  {
   "cell_type": "code",
   "execution_count": 597,
   "id": "3ec079e1",
   "metadata": {},
   "outputs": [
    {
     "name": "stdout",
     "output_type": "stream",
     "text": [
      "--------Start annotating----------\n",
      "Computational unit be used is: cpu\n",
      "100%[====================->]114.30s\n",
      "--------Annotation Finished----------\n"
     ]
    }
   ],
   "source": [
    "import time\n",
    "print(\"--------Start annotating----------\")\n",
    "start = time.perf_counter()\n",
    "\n",
    "#device = torch.device('cuda' if torch.cuda.is_available() else 'cpu')\n",
    "device = 'cpu'\n",
    "print(\"Computational unit be used is:\", device)\n",
    "\n",
    "model.to(device)\n",
    "#loss_weight = loss_weight.to(device)\n",
    "\n",
    "model.train()\n",
    "for epoch in range(num_epochs):\n",
    "    for step,(batch_x,batch_y) in enumerate(train_loader):\n",
    "        batch_x, batch_y = batch_x.to(device), batch_y.to(device)\n",
    "        outputs = model(batch_x)\n",
    "        train_loss = criterion(outputs, batch_y)\n",
    "        \n",
    "        # Backward and optimize\n",
    "        optimizer.zero_grad()\n",
    "        train_loss.backward()\n",
    "        optimizer.step()\n",
    "        \n",
    "    a = \"=\"*(epoch+1)\n",
    "    b = \".\"*(num_epochs-epoch-1)\n",
    "    c = ((epoch+1)/num_epochs)*100\n",
    "    dur = time.perf_counter() - start\n",
    "    print(\"\\r{:^3.0f}%[{}->{}]{:.2f}s\".format(c,a,b,dur),end = '')\n",
    "    time.sleep(0.1)\n",
    "    \n",
    "print(\"\\n--------Annotation Finished----------\")"
   ]
  },
  {
   "cell_type": "code",
   "execution_count": 598,
   "id": "f72d423c",
   "metadata": {},
   "outputs": [],
   "source": [
    "model.eval()\n",
    "with torch.no_grad():\n",
    "    X_test = X_test.to(device)\n",
    "    output = model(X_test)\n",
    "\n",
    "temp = F.softmax(output, dim=1)\n",
    "pred = torch.argmax(temp, dim=1).cpu()\n",
    "\n",
    "result = list(pred.numpy())\n",
    "results = []\n",
    "for i in result:\n",
    "    results.append(status_dict[i])"
   ]
  },
  {
   "cell_type": "code",
   "execution_count": 599,
   "id": "f341a828",
   "metadata": {},
   "outputs": [],
   "source": [
    "y_test = test_label"
   ]
  },
  {
   "cell_type": "code",
   "execution_count": 600,
   "id": "39f51ae5",
   "metadata": {},
   "outputs": [
    {
     "data": {
      "text/plain": [
       "0.9701730671642695"
      ]
     },
     "execution_count": 600,
     "metadata": {},
     "output_type": "execute_result"
    }
   ],
   "source": [
    "from sklearn.metrics import confusion_matrix,cohen_kappa_score\n",
    "cohen_kappa_score(y_test,results)"
   ]
  },
  {
   "cell_type": "code",
   "execution_count": 421,
   "id": "4b89c6c0",
   "metadata": {
    "scrolled": true
   },
   "outputs": [
    {
     "data": {
      "text/plain": [
       "0.985358901269759"
      ]
     },
     "execution_count": 421,
     "metadata": {},
     "output_type": "execute_result"
    }
   ],
   "source": [
    "f1_score(y_test,results,average='micro')"
   ]
  },
  {
   "cell_type": "code",
   "execution_count": 422,
   "id": "f85a012f",
   "metadata": {},
   "outputs": [
    {
     "data": {
      "text/plain": [
       "0.9824035941594909"
      ]
     },
     "execution_count": 422,
     "metadata": {},
     "output_type": "execute_result"
    }
   ],
   "source": [
    "f1 = f1_score(y_test,results,average=None)\n",
    "np.median(f1)"
   ]
  },
  {
   "cell_type": "code",
   "execution_count": 34,
   "id": "195137cf",
   "metadata": {},
   "outputs": [
    {
     "data": {
      "text/plain": [
       "array([[2432,    2,    0,    1,    1,    0,    0,    0,    0],\n",
       "       [   0, 3908,    3,    0,    1,    8,    0,    0,    0],\n",
       "       [   0,    0,    0,    0,    0,    0,    0,    0,    0],\n",
       "       [   3,    5,    0, 4474,   28,    0,    0,    0,    0],\n",
       "       [   1,    2,    0,   24, 6848,    0,    0,   10,    0],\n",
       "       [   0,    0,    0,    0,    0,  209,    0,    0,    0],\n",
       "       [   0,    0,    0,    0,    0,    0,  904,    0,    0],\n",
       "       [   0,    0,    0,    0,    0,    0,    0,    0,    0],\n",
       "       [   0,    0,    0,    0,    0,    0,    0,    0,  102]],\n",
       "      dtype=int64)"
      ]
     },
     "execution_count": 34,
     "metadata": {},
     "output_type": "execute_result"
    }
   ],
   "source": [
    "from sklearn.metrics import confusion_matrix\n",
    "confusion_matrix(y_test, results)"
   ]
  },
  {
   "cell_type": "code",
   "execution_count": null,
   "id": "26242fd2",
   "metadata": {},
   "outputs": [],
   "source": []
  }
 ],
 "metadata": {
  "kernelspec": {
   "display_name": "Python 3 (ipykernel)",
   "language": "python",
   "name": "python3"
  },
  "language_info": {
   "codemirror_mode": {
    "name": "ipython",
    "version": 3
   },
   "file_extension": ".py",
   "mimetype": "text/x-python",
   "name": "python",
   "nbconvert_exporter": "python",
   "pygments_lexer": "ipython3",
   "version": "3.8.13"
  }
 },
 "nbformat": 4,
 "nbformat_minor": 5
}
