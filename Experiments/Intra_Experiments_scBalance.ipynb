{
 "cells": [
  {
   "cell_type": "code",
   "execution_count": 1,
   "id": "b2dec895",
   "metadata": {},
   "outputs": [],
   "source": [
    "import scanpy as sc\n",
    "import pandas as pd\n",
    "import numpy as np\n",
    "import torch\n",
    "import torch.nn as nn\n",
    "from torch.optim import Adam\n",
    "import torch.utils.data as Data\n",
    "from sklearn.model_selection import train_test_split\n",
    "from sklearn.metrics import f1_score\n",
    "from collections import Counter"
   ]
  },
  {
   "cell_type": "code",
   "execution_count": 103,
   "id": "b0aa4cdf",
   "metadata": {},
   "outputs": [],
   "source": [
    "adata = sc.read_csv(\"C:\\\\Users\\Lenovo\\\\Documents\\\\Python Scripts\\\\Intra-dataset\\\\Pancreatic_data\\\\Muraro\\\\Filtered_Muraro_HumanPancreas_data.csv\")"
   ]
  },
  {
   "cell_type": "code",
   "execution_count": 104,
   "id": "25cc3d97",
   "metadata": {},
   "outputs": [],
   "source": [
    "label = pd.read_csv('C:\\\\Users\\Lenovo\\\\Documents\\\\Python Scripts\\\\Intra-dataset\\\\Pancreatic_data\\\\Muraro\\\\Labels.csv')"
   ]
  },
  {
   "cell_type": "code",
   "execution_count": 57,
   "id": "ae1bede5",
   "metadata": {},
   "outputs": [],
   "source": [
    "label = pd.read_csv('\\\\Users\\Lenovo\\\\Documents\\\\Python Scripts\\\\Intra-dataset\\\\Pancreatic_data\\\\Baron Mouse\\\\Labels.csv')\n",
    "adata = sc.read_csv(\"C:\\\\Users\\Lenovo\\\\Documents\\\\Python Scripts\\\\Intra-dataset\\\\Pancreatic_data\\\\Baron Mouse\\\\Filtered_MousePancreas_data.csv\")"
   ]
  },
  {
   "cell_type": "code",
   "execution_count": 105,
   "id": "6be921c5",
   "metadata": {
    "scrolled": false
   },
   "outputs": [
    {
     "data": {
      "text/plain": [
       "AnnData object with n_obs × n_vars = 2122 × 18915"
      ]
     },
     "execution_count": 105,
     "metadata": {},
     "output_type": "execute_result"
    }
   ],
   "source": [
    "adata"
   ]
  },
  {
   "cell_type": "code",
   "execution_count": 106,
   "id": "eeb5a313",
   "metadata": {},
   "outputs": [],
   "source": [
    "sc.pp.normalize_total(adata, target_sum=1e4)\n",
    "sc.pp.log1p(adata)"
   ]
  },
  {
   "cell_type": "code",
   "execution_count": 107,
   "id": "2f77b509",
   "metadata": {},
   "outputs": [],
   "source": [
    "label.columns = ['Label']\n",
    "label.Label.value_counts()\n",
    "status_dict = label['Label'].unique().tolist()\n",
    "label['transfromed']=label['Label'].apply(lambda x : status_dict.index(x))\n",
    "label_arr = label['transfromed'].values"
   ]
  },
  {
   "cell_type": "code",
   "execution_count": 108,
   "id": "3cbcd959",
   "metadata": {},
   "outputs": [],
   "source": [
    "data = adata.to_df()"
   ]
  },
  {
   "cell_type": "code",
   "execution_count": 109,
   "id": "8f4905b0",
   "metadata": {},
   "outputs": [],
   "source": [
    "data_arr = data.values"
   ]
  },
  {
   "cell_type": "code",
   "execution_count": 110,
   "id": "b3708f11",
   "metadata": {},
   "outputs": [
    {
     "data": {
      "text/plain": [
       "array([0, 1, 2, ..., 0, 4, 7], dtype=int64)"
      ]
     },
     "execution_count": 110,
     "metadata": {},
     "output_type": "execute_result"
    }
   ],
   "source": [
    "label_arr"
   ]
  },
  {
   "cell_type": "code",
   "execution_count": 111,
   "id": "6118866e",
   "metadata": {},
   "outputs": [
    {
     "data": {
      "text/plain": [
       "Counter({0: 812, 1: 21, 2: 193, 3: 448, 4: 245, 5: 219, 6: 101, 7: 80, 8: 3})"
      ]
     },
     "execution_count": 111,
     "metadata": {},
     "output_type": "execute_result"
    }
   ],
   "source": [
    "Counter(label_arr)"
   ]
  },
  {
   "cell_type": "code",
   "execution_count": 112,
   "id": "495db1aa",
   "metadata": {},
   "outputs": [],
   "source": [
    "X_train, X_test, y_train, y_test = train_test_split(data_arr, label_arr)"
   ]
  },
  {
   "cell_type": "code",
   "execution_count": 113,
   "id": "e00f3f27",
   "metadata": {},
   "outputs": [
    {
     "data": {
      "text/plain": [
       "Counter({0: 214, 4: 51, 3: 103, 5: 56, 7: 20, 1: 2, 2: 54, 6: 30, 8: 1})"
      ]
     },
     "execution_count": 113,
     "metadata": {},
     "output_type": "execute_result"
    }
   ],
   "source": [
    "Counter(y_test)"
   ]
  },
  {
   "cell_type": "code",
   "execution_count": 114,
   "id": "c693b459",
   "metadata": {},
   "outputs": [],
   "source": [
    "dtype = torch.float\n",
    "\n",
    "X_train=torch.from_numpy(X_train)\n",
    "X_test=torch.from_numpy(X_test)\n",
    "y_train = torch.from_numpy(y_train)"
   ]
  },
  {
   "cell_type": "code",
   "execution_count": 115,
   "id": "210f94fa",
   "metadata": {},
   "outputs": [],
   "source": [
    "train_data= Data.TensorDataset(X_train,y_train)"
   ]
  },
  {
   "cell_type": "code",
   "execution_count": 116,
   "id": "93f30e20",
   "metadata": {},
   "outputs": [],
   "source": [
    "import torch\n",
    "import torch.utils.data as Data\n",
    "\n",
    "def Weighted_Sampling(train_label = None):\n",
    "\n",
    "    '''\n",
    "\n",
    "    :param train_label: Input train label (in tensor) to calculate sampling weight\n",
    "    :return: Pytorch Weighted Sampler\n",
    "    '''\n",
    "\n",
    "    class_sample_count = torch.tensor(\n",
    "        [(train_label == t).sum() for t in torch.unique(train_label, sorted=True)])\n",
    "\n",
    "    weight = 1. / class_sample_count.float()\n",
    "    samples_weight = torch.tensor([weight[t] for t in train_label])\n",
    "\n",
    "    sampler = Data.WeightedRandomSampler(samples_weight, len(samples_weight))\n",
    "    \n",
    "    return samples_weight, sampler"
   ]
  },
  {
   "cell_type": "code",
   "execution_count": 117,
   "id": "0a7add23",
   "metadata": {
    "scrolled": true
   },
   "outputs": [],
   "source": [
    "weight, sampler = Weighted_Sampling(y_train)"
   ]
  },
  {
   "cell_type": "code",
   "execution_count": 118,
   "id": "467ea1e1",
   "metadata": {},
   "outputs": [
    {
     "data": {
      "text/plain": [
       "tensor([0.0029, 0.0072, 0.0017,  ..., 0.0017, 0.0029, 0.0029])"
      ]
     },
     "execution_count": 118,
     "metadata": {},
     "output_type": "execute_result"
    }
   ],
   "source": [
    "weight"
   ]
  },
  {
   "cell_type": "code",
   "execution_count": 119,
   "id": "76f94500",
   "metadata": {},
   "outputs": [],
   "source": [
    "train_loader= Data.DataLoader(dataset=train_data,batch_size=128,sampler = sampler,num_workers=1)"
   ]
  },
  {
   "cell_type": "code",
   "execution_count": 120,
   "id": "1bc32e4c",
   "metadata": {},
   "outputs": [],
   "source": [
    "from scBalance_classifier import classifier"
   ]
  },
  {
   "cell_type": "code",
   "execution_count": 194,
   "id": "051a83bf",
   "metadata": {},
   "outputs": [],
   "source": [
    "input_size = X_train.shape[1]\n",
    "num_class = len(status_dict)\n",
    "num_epochs = 20\n",
    "\n",
    "model = classifier(input_size, num_class)"
   ]
  },
  {
   "cell_type": "code",
   "execution_count": 195,
   "id": "0477ec81",
   "metadata": {
    "scrolled": false
   },
   "outputs": [
    {
     "name": "stdout",
     "output_type": "stream",
     "text": [
      "classifier(\n",
      "  (layer1): Linear(in_features=18915, out_features=128, bias=True)\n",
      "  (bn1): BatchNorm1d(128, eps=1e-05, momentum=0.1, affine=True, track_running_stats=True)\n",
      "  (elu1): ELU(alpha=1.0)\n",
      "  (dropout1): Dropout(p=0.5, inplace=False)\n",
      "  (layer2): Linear(in_features=128, out_features=64, bias=True)\n",
      "  (bn2): BatchNorm1d(64, eps=1e-05, momentum=0.1, affine=True, track_running_stats=True)\n",
      "  (elu2): ELU(alpha=1.0)\n",
      "  (dropout2): Dropout(p=0.5, inplace=False)\n",
      "  (layer3): Linear(in_features=64, out_features=32, bias=True)\n",
      "  (bn3): BatchNorm1d(32, eps=1e-05, momentum=0.1, affine=True, track_running_stats=True)\n",
      "  (elu3): ELU(alpha=1.0)\n",
      "  (dropout3): Dropout(p=0.5, inplace=False)\n",
      "  (layer4): Linear(in_features=32, out_features=9, bias=True)\n",
      ")\n"
     ]
    }
   ],
   "source": [
    "print(model)"
   ]
  },
  {
   "cell_type": "code",
   "execution_count": 196,
   "id": "edaea553",
   "metadata": {},
   "outputs": [],
   "source": [
    "criterion = nn.CrossEntropyLoss()\n",
    "optimizer = torch.optim.Adam(model.parameters(), lr=0.005)\n",
    "total_step = len(train_loader)"
   ]
  },
  {
   "cell_type": "code",
   "execution_count": 193,
   "id": "d46433ab",
   "metadata": {},
   "outputs": [],
   "source": [
    "import torch\n",
    "import torch.nn as nn\n",
    "\n",
    "class classifier(nn.Module):\n",
    "    '''\n",
    "    Deep Neural Network with 3 hidden layers,\n",
    "    each layer has batch normalization function locate before the activation function (ELU),\n",
    "    the followed by the dropout function to reduce overfiting the reference and overcome batch effect\n",
    "    '''\n",
    "    def __init__(self, input_size, class_num):\n",
    "        '''\n",
    "\n",
    "        :param input_size: Input layer unit number (feature number)\n",
    "        :param class_num: Number of different cell types.\n",
    "        '''\n",
    "        if input_size == None or class_num == None:\n",
    "            raise ValueError(\"Must declare number of features and number of classes\")\n",
    "        super(classifier, self).__init__()\n",
    "        self.layer1 = nn.Linear(input_size, 128)\n",
    "        self.bn1 = nn.BatchNorm1d(128)\n",
    "        self.elu1 = nn.ELU()\n",
    "        self.dropout1 = nn.Dropout(0.5)\n",
    "        self.layer2 = nn.Linear(128, 64)\n",
    "        self.bn2 = nn.BatchNorm1d(64)\n",
    "        self.elu2 = nn.ELU()\n",
    "        self.dropout2 = nn.Dropout(0.5)\n",
    "        self.layer3 = nn.Linear(64, 32)\n",
    "        self.bn3 = nn.BatchNorm1d(32)\n",
    "        self.elu3 = nn.ELU()\n",
    "        self.dropout3 = nn.Dropout(0.5)\n",
    "        self.layer4 = nn.Linear(32, class_num)\n",
    "\n",
    "\n",
    "    def forward(self, x):\n",
    "        '''\n",
    "\n",
    "        :param x: forward calculation\n",
    "        :return:\n",
    "        '''\n",
    "        out = self.layer1(x)\n",
    "        out = self.bn1(out)\n",
    "        out = self.elu1(out)\n",
    "        out = self.dropout1(out)\n",
    "        out = self.layer2(out)\n",
    "        out = self.bn2(out)\n",
    "        out = self.elu2(out)\n",
    "        out = self.dropout2(out)\n",
    "        out = self.layer3(out)\n",
    "        out = self.bn3(out)\n",
    "        out = self.elu3(out)\n",
    "        out = self.dropout3(out)\n",
    "        out = self.layer4(out)\n",
    "\n",
    "        return out"
   ]
  },
  {
   "cell_type": "code",
   "execution_count": 197,
   "id": "7e98a886",
   "metadata": {},
   "outputs": [
    {
     "name": "stdout",
     "output_type": "stream",
     "text": [
      "--------Start annotating----------\n",
      "Computational unit be used is: cpu\n",
      "100%[====================->]37.11s\n",
      "--------Annotation Finished----------\n"
     ]
    }
   ],
   "source": [
    "import time\n",
    "print(\"--------Start annotating----------\")\n",
    "start = time.perf_counter()\n",
    "\n",
    "#device = torch.device('cuda' if torch.cuda.is_available() else 'cpu')\n",
    "device = 'cpu'\n",
    "print(\"Computational unit be used is:\", device)\n",
    "\n",
    "model.to(device)\n",
    "#loss_weight = loss_weight.to(device)\n",
    "\n",
    "model.train()\n",
    "for epoch in range(num_epochs):\n",
    "    for step,(batch_x,batch_y) in enumerate(train_loader):\n",
    "        batch_x, batch_y = batch_x.to(device), batch_y.to(device)\n",
    "        outputs = model(batch_x)\n",
    "        train_loss = criterion(outputs, batch_y)\n",
    "        \n",
    "        # Backward and optimize\n",
    "        optimizer.zero_grad()\n",
    "        train_loss.backward()\n",
    "        optimizer.step()\n",
    "        \n",
    "    a = \"=\"*(epoch+1)\n",
    "    b = \".\"*(num_epochs-epoch-1)\n",
    "    c = ((epoch+1)/num_epochs)*100\n",
    "    dur = time.perf_counter() - start\n",
    "    print(\"\\r{:^3.0f}%[{}->{}]{:.2f}s\".format(c,a,b,dur),end = '')\n",
    "    time.sleep(0.1)\n",
    "    \n",
    "print(\"\\n--------Annotation Finished----------\")"
   ]
  },
  {
   "cell_type": "code",
   "execution_count": 198,
   "id": "38bc0cd8",
   "metadata": {},
   "outputs": [],
   "source": [
    "model.eval()\n",
    "with torch.no_grad():\n",
    "    X_test = X_test.to(device)\n",
    "    output = model(X_test)"
   ]
  },
  {
   "cell_type": "code",
   "execution_count": 199,
   "id": "aa2a4681",
   "metadata": {},
   "outputs": [],
   "source": [
    "#softmax\n",
    "import torch.nn.functional as F\n",
    "b = F.softmax(output,dim=1)\n",
    "pred = torch.argmax(b, dim = 1).cpu()"
   ]
  },
  {
   "cell_type": "code",
   "execution_count": 200,
   "id": "98c23319",
   "metadata": {},
   "outputs": [],
   "source": [
    "result = list(pred.numpy())"
   ]
  },
  {
   "cell_type": "code",
   "execution_count": 201,
   "id": "32c03e67",
   "metadata": {},
   "outputs": [],
   "source": [
    "results = []\n",
    "for i in result:\n",
    "    results.append(status_dict[i])"
   ]
  },
  {
   "cell_type": "code",
   "execution_count": 202,
   "id": "6c684bd1",
   "metadata": {
    "scrolled": false
   },
   "outputs": [
    {
     "data": {
      "text/plain": [
       "tensor([0, 0, 4, 3, 0, 0, 5, 0, 7, 0, 3, 0, 5, 0, 1, 0, 7, 3, 3, 0, 2, 5, 3, 2,\n",
       "        7, 7, 0, 0, 4, 0, 4, 0, 2, 0, 0, 5, 4, 2, 0, 5, 0, 5, 6, 0, 0, 0, 4, 3,\n",
       "        0, 3, 0, 6, 5, 0, 2, 0, 3, 2, 0, 2, 5, 3, 0, 0, 0, 2, 2, 3, 0, 0, 0, 3,\n",
       "        3, 0, 3, 5, 0, 5, 5, 6, 0, 0, 0, 6, 2, 0, 2, 4, 7, 3, 4, 6, 2, 0, 3, 2,\n",
       "        4, 0, 5, 0, 0, 0, 0, 3, 5, 3, 0, 6, 6, 3, 2, 5, 0, 2, 3, 0, 4, 3, 0, 2,\n",
       "        0, 4, 0, 3, 4, 5, 7, 0, 4, 3, 0, 0, 5, 0, 5, 0, 0, 0, 0, 3, 0, 3, 3, 2,\n",
       "        3, 0, 3, 0, 6, 5, 0, 7, 0, 2, 3, 5, 7, 5, 0, 3, 0, 2, 2, 0, 0, 0, 5, 7,\n",
       "        6, 0, 0, 5, 0, 3, 0, 6, 0, 0, 0, 5, 6, 4, 0, 2, 3, 0, 2, 5, 2, 3, 5, 2,\n",
       "        0, 0, 0, 0, 0, 0, 3, 0, 3, 2, 0, 5, 0, 0, 0, 4, 0, 0, 0, 4, 0, 0, 2, 5,\n",
       "        0, 5, 0, 0, 7, 2, 0, 6, 3, 0, 3, 5, 3, 3, 0, 0, 0, 6, 5, 2, 0, 4, 3, 0,\n",
       "        2, 3, 5, 7, 0, 0, 3, 3, 2, 6, 3, 0, 0, 5, 2, 3, 0, 6, 4, 2, 0, 3, 3, 3,\n",
       "        6, 0, 0, 3, 0, 3, 6, 6, 0, 3, 7, 6, 4, 0, 4, 5, 3, 0, 4, 0, 0, 3, 0, 3,\n",
       "        4, 0, 3, 3, 5, 0, 3, 0, 7, 0, 5, 3, 5, 5, 2, 5, 2, 4, 7, 5, 3, 0, 0, 0,\n",
       "        3, 4, 0, 0, 3, 0, 3, 0, 4, 0, 6, 0, 0, 0, 0, 3, 0, 3, 0, 2, 0, 4, 2, 6,\n",
       "        3, 7, 2, 3, 0, 0, 0, 5, 7, 0, 0, 0, 0, 0, 4, 0, 0, 4, 2, 0, 0, 0, 3, 4,\n",
       "        4, 0, 4, 3, 0, 0, 3, 0, 6, 0, 5, 5, 3, 0, 4, 0, 0, 0, 5, 7, 3, 4, 0, 4,\n",
       "        0, 2, 2, 3, 3, 5, 3, 3, 0, 2, 0, 0, 5, 4, 6, 0, 4, 2, 2, 3, 4, 2, 0, 0,\n",
       "        2, 3, 0, 4, 3, 3, 3, 0, 4, 3, 5, 3, 5, 0, 4, 6, 5, 3, 0, 0, 0, 3, 4, 0,\n",
       "        0, 4, 2, 0, 4, 3, 5, 5, 0, 4, 0, 3, 4, 2, 2, 0, 0, 4, 0, 0, 4, 3, 0, 0,\n",
       "        6, 6, 5, 5, 5, 3, 0, 0, 3, 3, 0, 0, 0, 0, 0, 0, 0, 0, 2, 0, 0, 0, 5, 4,\n",
       "        0, 2, 0, 0, 1, 0, 7, 0, 0, 6, 3, 2, 3, 2, 0, 0, 3, 3, 5, 6, 0, 6, 0, 2,\n",
       "        3, 6, 0, 4, 3, 3, 3, 2, 4, 6, 7, 3, 7, 3, 0, 4, 0, 5, 3, 0, 5, 5, 0, 0,\n",
       "        0, 3, 0])"
      ]
     },
     "execution_count": 202,
     "metadata": {},
     "output_type": "execute_result"
    }
   ],
   "source": [
    "pred"
   ]
  },
  {
   "cell_type": "code",
   "execution_count": 203,
   "id": "fb885524",
   "metadata": {},
   "outputs": [
    {
     "data": {
      "text/plain": [
       "array([0, 0, 4, 3, 0, 3, 5, 0, 7, 0, 3, 0, 5, 0, 1, 0, 7, 3, 3, 0, 2, 5,\n",
       "       3, 2, 7, 7, 0, 0, 4, 0, 4, 0, 2, 0, 0, 5, 4, 2, 0, 5, 0, 5, 6, 0,\n",
       "       0, 0, 4, 3, 0, 3, 0, 6, 5, 0, 2, 0, 3, 2, 0, 2, 5, 3, 0, 0, 0, 2,\n",
       "       2, 3, 0, 0, 0, 3, 3, 0, 3, 5, 0, 5, 5, 6, 0, 0, 0, 6, 2, 0, 2, 4,\n",
       "       7, 3, 4, 6, 2, 0, 3, 2, 4, 0, 5, 0, 0, 0, 0, 3, 5, 3, 0, 6, 6, 3,\n",
       "       2, 5, 0, 2, 3, 0, 4, 3, 0, 2, 0, 4, 0, 3, 4, 5, 7, 0, 4, 3, 0, 0,\n",
       "       5, 0, 5, 0, 0, 0, 0, 3, 0, 3, 3, 2, 3, 0, 3, 0, 6, 5, 0, 7, 0, 2,\n",
       "       3, 5, 7, 5, 0, 3, 0, 2, 2, 0, 0, 0, 3, 7, 6, 0, 0, 5, 0, 3, 0, 6,\n",
       "       0, 0, 0, 5, 6, 3, 0, 2, 3, 0, 2, 5, 2, 3, 4, 2, 0, 0, 0, 0, 0, 0,\n",
       "       0, 0, 3, 2, 0, 5, 0, 0, 0, 4, 0, 0, 0, 4, 0, 0, 2, 5, 0, 5, 0, 0,\n",
       "       7, 2, 0, 6, 3, 0, 3, 5, 3, 3, 0, 0, 0, 6, 5, 2, 0, 4, 3, 0, 2, 3,\n",
       "       5, 7, 0, 0, 3, 3, 2, 6, 3, 0, 0, 5, 2, 3, 0, 6, 4, 2, 0, 3, 3, 3,\n",
       "       6, 0, 0, 3, 0, 3, 6, 6, 0, 3, 7, 6, 4, 0, 4, 5, 3, 0, 4, 0, 0, 3,\n",
       "       0, 3, 4, 0, 3, 3, 5, 0, 3, 0, 7, 0, 5, 3, 5, 5, 2, 5, 2, 4, 7, 5,\n",
       "       3, 0, 0, 0, 3, 4, 0, 0, 3, 0, 3, 0, 4, 0, 6, 0, 0, 0, 0, 3, 0, 3,\n",
       "       0, 2, 0, 4, 2, 6, 3, 7, 2, 3, 0, 0, 0, 5, 7, 0, 0, 0, 0, 0, 4, 0,\n",
       "       0, 4, 2, 0, 0, 0, 3, 4, 4, 0, 4, 3, 0, 0, 3, 0, 6, 0, 5, 5, 3, 0,\n",
       "       4, 0, 0, 0, 5, 7, 3, 4, 0, 4, 0, 2, 2, 3, 3, 5, 3, 3, 0, 2, 0, 0,\n",
       "       5, 4, 6, 0, 4, 2, 2, 3, 4, 2, 0, 0, 2, 3, 0, 4, 3, 3, 3, 0, 4, 3,\n",
       "       5, 3, 5, 0, 4, 6, 5, 3, 0, 0, 8, 3, 4, 0, 0, 4, 2, 0, 4, 3, 5, 5,\n",
       "       0, 4, 0, 3, 4, 2, 2, 0, 0, 4, 0, 0, 4, 3, 0, 0, 6, 6, 5, 5, 5, 3,\n",
       "       0, 0, 3, 3, 0, 0, 0, 0, 0, 0, 0, 0, 2, 0, 0, 0, 5, 4, 0, 2, 0, 0,\n",
       "       1, 0, 7, 0, 0, 6, 3, 2, 4, 2, 0, 0, 3, 3, 5, 6, 0, 6, 0, 2, 3, 6,\n",
       "       0, 4, 3, 3, 3, 2, 4, 3, 7, 3, 7, 3, 0, 4, 0, 5, 3, 0, 5, 5, 0, 0,\n",
       "       0, 3, 0], dtype=int64)"
      ]
     },
     "execution_count": 203,
     "metadata": {},
     "output_type": "execute_result"
    }
   ],
   "source": [
    "y_test"
   ]
  },
  {
   "cell_type": "code",
   "execution_count": 204,
   "id": "98f3447d",
   "metadata": {},
   "outputs": [
    {
     "data": {
      "text/plain": [
       "0.8777727728591119"
      ]
     },
     "execution_count": 204,
     "metadata": {},
     "output_type": "execute_result"
    }
   ],
   "source": [
    "f1_score(y_test,pred.cpu(),average='macro')"
   ]
  },
  {
   "cell_type": "code",
   "execution_count": 205,
   "id": "ff4243d3",
   "metadata": {
    "scrolled": true
   },
   "outputs": [
    {
     "data": {
      "text/plain": [
       "array([[213,   0,   0,   1,   0,   0,   0,   0,   0],\n",
       "       [  0,   2,   0,   0,   0,   0,   0,   0,   0],\n",
       "       [  0,   0,  54,   0,   0,   0,   0,   0,   0],\n",
       "       [  1,   0,   0,  99,   1,   1,   1,   0,   0],\n",
       "       [  0,   0,   0,   1,  49,   1,   0,   0,   0],\n",
       "       [  0,   0,   0,   0,   0,  56,   0,   0,   0],\n",
       "       [  0,   0,   0,   0,   0,   0,  30,   0,   0],\n",
       "       [  0,   0,   0,   0,   0,   0,   0,  20,   0],\n",
       "       [  1,   0,   0,   0,   0,   0,   0,   0,   0]], dtype=int64)"
      ]
     },
     "execution_count": 205,
     "metadata": {},
     "output_type": "execute_result"
    }
   ],
   "source": [
    "from sklearn.metrics import confusion_matrix,cohen_kappa_score\n",
    "confusion_matrix(y_test, pred)"
   ]
  },
  {
   "cell_type": "code",
   "execution_count": 206,
   "id": "94c18746",
   "metadata": {},
   "outputs": [
    {
     "data": {
      "text/plain": [
       "0.9836065573770492"
      ]
     },
     "execution_count": 206,
     "metadata": {},
     "output_type": "execute_result"
    }
   ],
   "source": [
    "f1 = f1_score(y_test,pred,average=None)\n",
    "np.median(f1)"
   ]
  },
  {
   "cell_type": "code",
   "execution_count": 207,
   "id": "86e09a8f",
   "metadata": {},
   "outputs": [
    {
     "data": {
      "text/plain": [
       "0.9802877030162414"
      ]
     },
     "execution_count": 207,
     "metadata": {},
     "output_type": "execute_result"
    }
   ],
   "source": [
    "cohen_kappa_score(y_test,pred)"
   ]
  },
  {
   "cell_type": "code",
   "execution_count": null,
   "id": "db35e0d8",
   "metadata": {},
   "outputs": [],
   "source": []
  },
  {
   "cell_type": "code",
   "execution_count": null,
   "id": "228bca46",
   "metadata": {},
   "outputs": [],
   "source": []
  }
 ],
 "metadata": {
  "kernelspec": {
   "display_name": "Python 3 (ipykernel)",
   "language": "python",
   "name": "python3"
  },
  "language_info": {
   "codemirror_mode": {
    "name": "ipython",
    "version": 3
   },
   "file_extension": ".py",
   "mimetype": "text/x-python",
   "name": "python",
   "nbconvert_exporter": "python",
   "pygments_lexer": "ipython3",
   "version": "3.8.13"
  }
 },
 "nbformat": 4,
 "nbformat_minor": 5
}
